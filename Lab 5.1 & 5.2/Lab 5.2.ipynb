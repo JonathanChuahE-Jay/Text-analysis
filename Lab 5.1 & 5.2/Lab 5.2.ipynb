{
 "cells": [
  {
   "cell_type": "code",
   "execution_count": 1,
   "id": "c84f88b2",
   "metadata": {},
   "outputs": [],
   "source": [
    "import pandas as pd\n",
    "import math\n",
    "from collections import Counter"
   ]
  },
  {
   "cell_type": "code",
   "execution_count": 8,
   "id": "36b1889c",
   "metadata": {},
   "outputs": [],
   "source": [
    "def compute_tf(document):\n",
    "    word_count = Counter(document)\n",
    "    tf = {word: count/len(document) for word, count in word_count.items()}\n",
    "    return tf\n",
    "\n",
    "def compute_idf(documents):\n",
    "    N = len(documents)\n",
    "    idf = {}\n",
    "    all_words = set(word for doc in documents for word in doc)\n",
    "    for word in all_words:\n",
    "        count = sum(1 for doc in documents if word in doc)\n",
    "        idf[word] = math.log(N/count)\n",
    "    return idf\n",
    "\n",
    "def compute_tfidf(document, idf):\n",
    "    tfidf = {}\n",
    "    tf = compute_tf(document)\n",
    "    for word, tf_value in tf.items():\n",
    "        tfidf[word] = tf_value * idf[word]\n",
    "    return tfidf"
   ]
  },
  {
   "cell_type": "code",
   "execution_count": 9,
   "id": "07d89a4a",
   "metadata": {},
   "outputs": [],
   "source": [
    "data = [\n",
    "    \"A quick brown fox jumps over the lazy dog What a fox\",\n",
    "    \"A quick brown fox jumps over the lazy fox What a fox\"\n",
    "]"
   ]
  },
  {
   "cell_type": "code",
   "execution_count": 10,
   "id": "54f05919",
   "metadata": {},
   "outputs": [],
   "source": [
    "documents = [doc.split() for doc in data]"
   ]
  },
  {
   "cell_type": "code",
   "execution_count": 11,
   "id": "0d464e2a",
   "metadata": {},
   "outputs": [],
   "source": [
    "tf_data = [compute_tf(doc) for doc in documents]"
   ]
  },
  {
   "cell_type": "code",
   "execution_count": 12,
   "id": "e33e6452",
   "metadata": {},
   "outputs": [
    {
     "name": "stdout",
     "output_type": "stream",
     "text": [
      "TF Scores:\n",
      "          A     quick     brown       fox     jumps      over       the  \\\n",
      "0  0.083333  0.083333  0.083333  0.166667  0.083333  0.083333  0.083333   \n",
      "1  0.083333  0.083333  0.083333  0.250000  0.083333  0.083333  0.083333   \n",
      "\n",
      "       lazy       dog      What         a  \n",
      "0  0.083333  0.083333  0.083333  0.083333  \n",
      "1  0.083333  0.000000  0.083333  0.083333  \n"
     ]
    }
   ],
   "source": [
    "tf_df = pd.DataFrame(tf_data).fillna(0)\n",
    "print(\"TF Scores:\")\n",
    "print(tf_df)\n"
   ]
  },
  {
   "cell_type": "code",
   "execution_count": 13,
   "id": "57a05c5c",
   "metadata": {},
   "outputs": [
    {
     "name": "stdout",
     "output_type": "stream",
     "text": [
      "\n",
      "IDF Scores:\n",
      "   fox  the  brown    A  over    a       dog  jumps  quick  What  lazy\n",
      "0  0.0  0.0    0.0  0.0   0.0  0.0  0.693147    0.0    0.0   0.0   0.0\n"
     ]
    }
   ],
   "source": [
    "idf = compute_idf(documents)\n",
    "idf_df = pd.DataFrame([idf]).fillna(0)\n",
    "print(\"\\nIDF Scores:\")\n",
    "print(idf_df)"
   ]
  },
  {
   "cell_type": "code",
   "execution_count": 14,
   "id": "9b99f591",
   "metadata": {},
   "outputs": [],
   "source": [
    "tfidf_data = [compute_tfidf(doc, idf) for doc in documents]"
   ]
  },
  {
   "cell_type": "code",
   "execution_count": 15,
   "id": "03cadea0",
   "metadata": {},
   "outputs": [
    {
     "name": "stdout",
     "output_type": "stream",
     "text": [
      "\n",
      "TF-IDF Scores:\n",
      "     A  quick  brown  fox  jumps  over  the  lazy       dog  What    a\n",
      "0  0.0    0.0    0.0  0.0    0.0   0.0  0.0   0.0  0.057762   0.0  0.0\n",
      "1  0.0    0.0    0.0  0.0    0.0   0.0  0.0   0.0  0.000000   0.0  0.0\n"
     ]
    }
   ],
   "source": [
    "tfidf_df = pd.DataFrame(tfidf_data).fillna(0)\n",
    "print(\"\\nTF-IDF Scores:\")\n",
    "print(tfidf_df)"
   ]
  },
  {
   "cell_type": "code",
   "execution_count": null,
   "id": "3cef8e7d",
   "metadata": {},
   "outputs": [],
   "source": []
  }
 ],
 "metadata": {
  "kernelspec": {
   "display_name": "Python 3 (ipykernel)",
   "language": "python",
   "name": "python3"
  },
  "language_info": {
   "codemirror_mode": {
    "name": "ipython",
    "version": 3
   },
   "file_extension": ".py",
   "mimetype": "text/x-python",
   "name": "python",
   "nbconvert_exporter": "python",
   "pygments_lexer": "ipython3",
   "version": "3.11.5"
  }
 },
 "nbformat": 4,
 "nbformat_minor": 5
}
