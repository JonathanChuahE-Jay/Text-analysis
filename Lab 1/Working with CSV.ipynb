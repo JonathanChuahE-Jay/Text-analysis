{
 "cells": [
  {
   "cell_type": "code",
   "execution_count": 9,
   "id": "49bc0d99",
   "metadata": {},
   "outputs": [],
   "source": [
    "import csv"
   ]
  },
  {
   "cell_type": "code",
   "execution_count": 14,
   "id": "cc57b44b",
   "metadata": {},
   "outputs": [],
   "source": [
    "csv_file = 'sample_data.csv'"
   ]
  },
  {
   "cell_type": "code",
   "execution_count": 15,
   "id": "b85fabb9",
   "metadata": {},
   "outputs": [],
   "source": [
    "output_file = 'comments.txt'"
   ]
  },
  {
   "cell_type": "code",
   "execution_count": 16,
   "id": "a26f480b",
   "metadata": {},
   "outputs": [],
   "source": [
    "with open(csv_file, 'r', newline='') as csvfile:\n",
    "    reader = csv.DictReader(csvfile)\n",
    "    comments = []\n",
    "    \n",
    "    for row in reader:\n",
    "        comments.append(row['comments'])"
   ]
  },
  {
   "cell_type": "code",
   "execution_count": 17,
   "id": "24a98758",
   "metadata": {},
   "outputs": [
    {
     "data": {
      "text/plain": [
       "['Comment1', 'Comment2', 'Comment3', 'Comment4', 'Comment5']"
      ]
     },
     "execution_count": 17,
     "metadata": {},
     "output_type": "execute_result"
    }
   ],
   "source": [
    "comments"
   ]
  },
  {
   "cell_type": "code",
   "execution_count": null,
   "id": "840c25d6",
   "metadata": {},
   "outputs": [],
   "source": []
  }
 ],
 "metadata": {
  "kernelspec": {
   "display_name": "Python 3 (ipykernel)",
   "language": "python",
   "name": "python3"
  },
  "language_info": {
   "codemirror_mode": {
    "name": "ipython",
    "version": 3
   },
   "file_extension": ".py",
   "mimetype": "text/x-python",
   "name": "python",
   "nbconvert_exporter": "python",
   "pygments_lexer": "ipython3",
   "version": "3.11.5"
  }
 },
 "nbformat": 4,
 "nbformat_minor": 5
}
